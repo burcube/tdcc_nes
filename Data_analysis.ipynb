{
 "cells": [
  {
   "cell_type": "code",
   "id": "initial_id",
   "metadata": {
    "collapsed": true,
    "ExecuteTime": {
     "end_time": "2024-11-29T13:24:08.371911Z",
     "start_time": "2024-11-29T13:24:08.071762Z"
    }
   },
   "source": "# Below are the used packages\n",
   "outputs": [
    {
     "ename": "ModuleNotFoundError",
     "evalue": "No module named 'panda'",
     "output_type": "error",
     "traceback": [
      "\u001B[1;31m---------------------------------------------------------------------------\u001B[0m",
      "\u001B[1;31mModuleNotFoundError\u001B[0m                       Traceback (most recent call last)",
      "Cell \u001B[1;32mIn[6], line 2\u001B[0m\n\u001B[0;32m      1\u001B[0m \u001B[38;5;66;03m# Below are the used packages\u001B[39;00m\n\u001B[1;32m----> 2\u001B[0m \u001B[38;5;28;01mimport\u001B[39;00m \u001B[38;5;21;01mpanda\u001B[39;00m \u001B[38;5;28;01mas\u001B[39;00m \u001B[38;5;21;01mpd\u001B[39;00m\n\u001B[0;32m      3\u001B[0m \u001B[38;5;28;01mimport\u001B[39;00m \u001B[38;5;21;01mmatplotlib\u001B[39;00m\u001B[38;5;21;01m.\u001B[39;00m\u001B[38;5;21;01mpyplot\u001B[39;00m \u001B[38;5;28;01mas\u001B[39;00m \u001B[38;5;21;01mplt\u001B[39;00m\n\u001B[0;32m      4\u001B[0m \u001B[38;5;28;01mimport\u001B[39;00m \u001B[38;5;21;01mseaborn\u001B[39;00m \u001B[38;5;28;01mas\u001B[39;00m \u001B[38;5;21;01msns\u001B[39;00m\n",
      "\u001B[1;31mModuleNotFoundError\u001B[0m: No module named 'panda'"
     ]
    }
   ],
   "execution_count": 6
  },
  {
   "metadata": {},
   "cell_type": "markdown",
   "source": "",
   "id": "8413f3ecb965ed8e"
  },
  {
   "metadata": {
    "ExecuteTime": {
     "end_time": "2024-11-29T13:34:54.781246Z",
     "start_time": "2024-11-29T13:34:54.055519Z"
    }
   },
   "cell_type": "code",
   "source": [
    "# Question 2, data retrieved from Results-->Export-->downloaded as .csv file\n",
    "file_path = \"dashboard-export-01-09-pm-2024-11-29.csv\"\n",
    "import pandas as pd\n",
    "data = pd.read_csv(file_path)\n",
    "#Display data\n",
    "print(data)\n",
    "# Calculate total responses\n",
    "total_responses = data['Number of responses'].sum()\n",
    "\n",
    "#Add a new column with percentages\n",
    "data['Percentage'] = (data['Number of responses'] / total_responses) * 100\n",
    "\n",
    "#Display the updated dataframe\n",
    "print(data)\n"
   ],
   "id": "8f2c5b47dbc97679",
   "outputs": [
    {
     "name": "stdout",
     "output_type": "stream",
     "text": [
      "  Q2 - What type of institute do you work in? (more than one can apply) - Selected Choice  \\\n",
      "0                                         University                                        \n",
      "1             Applied University (Dutch: hogeschool)                                        \n",
      "2                 NWO-I Institute (CWI, AMOLF, etc.)                                        \n",
      "3             TO2 Organisation (Deltares, TNO, etc.)                                        \n",
      "4                 Government (KNMI, RIVM, PBL, etc.)                                        \n",
      "5  Other Organizations that produce/play a major ...                                        \n",
      "6   Small or Medium Enterprise (less than 50 people)                                        \n",
      "7               Large Enterprise (50 or more people)                                        \n",
      "8                            Other (please specify):                                        \n",
      "\n",
      "   Count  Number of responses  \n",
      "0    107                  107  \n",
      "1      3                    3  \n",
      "2     30                   30  \n",
      "3      1                    1  \n",
      "4      3                    3  \n",
      "5     21                   21  \n",
      "6      1                    1  \n",
      "7      4                    4  \n",
      "8      4                    4  \n",
      "  Q2 - What type of institute do you work in? (more than one can apply) - Selected Choice  \\\n",
      "0                                         University                                        \n",
      "1             Applied University (Dutch: hogeschool)                                        \n",
      "2                 NWO-I Institute (CWI, AMOLF, etc.)                                        \n",
      "3             TO2 Organisation (Deltares, TNO, etc.)                                        \n",
      "4                 Government (KNMI, RIVM, PBL, etc.)                                        \n",
      "5  Other Organizations that produce/play a major ...                                        \n",
      "6   Small or Medium Enterprise (less than 50 people)                                        \n",
      "7               Large Enterprise (50 or more people)                                        \n",
      "8                            Other (please specify):                                        \n",
      "\n",
      "   Count  Number of responses  Percentage  \n",
      "0    107                  107   61.494253  \n",
      "1      3                    3    1.724138  \n",
      "2     30                   30   17.241379  \n",
      "3      1                    1    0.574713  \n",
      "4      3                    3    1.724138  \n",
      "5     21                   21   12.068966  \n",
      "6      1                    1    0.574713  \n",
      "7      4                    4    2.298851  \n",
      "8      4                    4    2.298851  \n"
     ]
    }
   ],
   "execution_count": 11
  },
  {
   "metadata": {},
   "cell_type": "markdown",
   "source": "",
   "id": "52bfd1617c2df970"
  }
 ],
 "metadata": {
  "kernelspec": {
   "display_name": "Python 3",
   "language": "python",
   "name": "python3"
  },
  "language_info": {
   "codemirror_mode": {
    "name": "ipython",
    "version": 2
   },
   "file_extension": ".py",
   "mimetype": "text/x-python",
   "name": "python",
   "nbconvert_exporter": "python",
   "pygments_lexer": "ipython2",
   "version": "2.7.6"
  }
 },
 "nbformat": 4,
 "nbformat_minor": 5
}
